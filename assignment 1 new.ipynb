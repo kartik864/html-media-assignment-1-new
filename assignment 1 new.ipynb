{
 "cells": [
  {
   "cell_type": "code",
   "execution_count": 1,
   "id": "7fc8ef97-4e6c-4419-85d8-d84aba5cccae",
   "metadata": {},
   "outputs": [],
   "source": [
    "#1\n",
    "a=123   #\"i assign a as int and convert into float\""
   ]
  },
  {
   "cell_type": "code",
   "execution_count": 2,
   "id": "3f88137b-a1a4-492f-8a14-df0b60a94737",
   "metadata": {},
   "outputs": [
    {
     "data": {
      "text/plain": [
       "int"
      ]
     },
     "execution_count": 2,
     "metadata": {},
     "output_type": "execute_result"
    }
   ],
   "source": [
    "type(a)\n"
   ]
  },
  {
   "cell_type": "code",
   "execution_count": 5,
   "id": "d8d1176f-943e-49d7-8583-1abda5db5600",
   "metadata": {},
   "outputs": [],
   "source": [
    "a=float(a)"
   ]
  },
  {
   "cell_type": "code",
   "execution_count": 6,
   "id": "e0d3bd59-de5e-4c40-9de3-457f9f7b34e4",
   "metadata": {},
   "outputs": [
    {
     "data": {
      "text/plain": [
       "float"
      ]
     },
     "execution_count": 6,
     "metadata": {},
     "output_type": "execute_result"
    }
   ],
   "source": [
    "type(a)"
   ]
  },
  {
   "cell_type": "code",
   "execution_count": 7,
   "id": "ae805944-0899-4b34-aee6-359db94e1fb8",
   "metadata": {},
   "outputs": [
    {
     "data": {
      "text/plain": [
       "float"
      ]
     },
     "execution_count": 7,
     "metadata": {},
     "output_type": "execute_result"
    }
   ],
   "source": [
    "#2\n",
    "b=1.22     # \" i assign b as a float convert into integer\n",
    "\n",
    "type(a)"
   ]
  },
  {
   "cell_type": "code",
   "execution_count": 8,
   "id": "cd16b258-3aad-49bb-aa8b-6af90ee9c5f0",
   "metadata": {},
   "outputs": [],
   "source": [
    "b=int(a)"
   ]
  },
  {
   "cell_type": "code",
   "execution_count": 9,
   "id": "b210dd74-29a0-49d4-8951-22ed680023ba",
   "metadata": {},
   "outputs": [
    {
     "data": {
      "text/plain": [
       "float"
      ]
     },
     "execution_count": 9,
     "metadata": {},
     "output_type": "execute_result"
    }
   ],
   "source": [
    "type(a)"
   ]
  },
  {
   "cell_type": "code",
   "execution_count": 10,
   "id": "24890f96-e24c-46b2-a49e-f51613298902",
   "metadata": {},
   "outputs": [],
   "source": [
    "#3\n",
    "c=123       # \"i assign c as int and convert into string\""
   ]
  },
  {
   "cell_type": "code",
   "execution_count": 12,
   "id": "26d1f9c3-ea2a-4cdb-9182-20a4f24c0875",
   "metadata": {},
   "outputs": [
    {
     "data": {
      "text/plain": [
       "int"
      ]
     },
     "execution_count": 12,
     "metadata": {},
     "output_type": "execute_result"
    }
   ],
   "source": [
    "type(c)"
   ]
  },
  {
   "cell_type": "code",
   "execution_count": 13,
   "id": "f663d2d5-0512-44aa-b528-d8802621656a",
   "metadata": {},
   "outputs": [],
   "source": [
    "c=str(c)"
   ]
  },
  {
   "cell_type": "code",
   "execution_count": 14,
   "id": "98e2aa4c-ffe1-423b-8c9e-6eb9795bb27c",
   "metadata": {},
   "outputs": [
    {
     "data": {
      "text/plain": [
       "str"
      ]
     },
     "execution_count": 14,
     "metadata": {},
     "output_type": "execute_result"
    }
   ],
   "source": [
    "type(c)"
   ]
  },
  {
   "cell_type": "code",
   "execution_count": 9,
   "id": "af43d744-c53b-454f-93be-41621b5c8349",
   "metadata": {},
   "outputs": [
    {
     "data": {
      "text/plain": [
       "list"
      ]
     },
     "execution_count": 9,
     "metadata": {},
     "output_type": "execute_result"
    }
   ],
   "source": [
    "#4\n",
    "d=[\"pwskills\",\"kartik\",\"data science\"]    #\"i assign d as list and convert into tuples \"\n",
    "type(d)"
   ]
  },
  {
   "cell_type": "code",
   "execution_count": 11,
   "id": "95bb4882-b052-4921-ae96-70564e34d930",
   "metadata": {},
   "outputs": [
    {
     "data": {
      "text/plain": [
       "tuple"
      ]
     },
     "execution_count": 11,
     "metadata": {},
     "output_type": "execute_result"
    }
   ],
   "source": [
    "d=tuple(d)\n",
    "type(d)"
   ]
  },
  {
   "cell_type": "code",
   "execution_count": 5,
   "id": "3b27b10c-e697-4c98-baca-e5b959f69a1c",
   "metadata": {},
   "outputs": [],
   "source": [
    "#5\n",
    "my_tuples=('kartik_1','himanshu_2','pwskills_3')     #tuples converted into list"
   ]
  },
  {
   "cell_type": "code",
   "execution_count": 6,
   "id": "7733f893-0773-440d-9400-db7c635c3374",
   "metadata": {},
   "outputs": [],
   "source": [
    "my_list=list(my_tuples)"
   ]
  },
  {
   "cell_type": "code",
   "execution_count": 7,
   "id": "68e9985b-26f8-48ee-b2be-e834b03c7b70",
   "metadata": {},
   "outputs": [
    {
     "data": {
      "text/plain": [
       "['kartik_1', 'himanshu_2', 'pwskills_3']"
      ]
     },
     "execution_count": 7,
     "metadata": {},
     "output_type": "execute_result"
    }
   ],
   "source": [
    "my_list"
   ]
  },
  {
   "cell_type": "code",
   "execution_count": 4,
   "id": "6590c7fc-812b-4625-a8e4-280b938ca878",
   "metadata": {},
   "outputs": [
    {
     "data": {
      "text/plain": [
       "list"
      ]
     },
     "execution_count": 4,
     "metadata": {},
     "output_type": "execute_result"
    }
   ],
   "source": [
    "type(my_list)"
   ]
  },
  {
   "cell_type": "code",
   "execution_count": 45,
   "id": "f41c2978-b306-4240-99b9-2713219826eb",
   "metadata": {},
   "outputs": [],
   "source": [
    "#6\n",
    "decimal=int(2.2)   #decimal no. converted into binary\n"
   ]
  },
  {
   "cell_type": "code",
   "execution_count": 47,
   "id": "f6bfd6ed-92bc-45ed-ae27-64dffa8e0ea1",
   "metadata": {},
   "outputs": [],
   "source": [
    "binary=bin(decimal)"
   ]
  },
  {
   "cell_type": "code",
   "execution_count": 43,
   "id": "e44efe18-628e-46ce-b422-148629cb060d",
   "metadata": {},
   "outputs": [
    {
     "data": {
      "text/plain": [
       "'0b10'"
      ]
     },
     "execution_count": 43,
     "metadata": {},
     "output_type": "execute_result"
    }
   ],
   "source": [
    "binary"
   ]
  },
  {
   "cell_type": "code",
   "execution_count": 48,
   "id": "dbbfc17c-6a7e-4365-b476-e8b9a947a226",
   "metadata": {},
   "outputs": [],
   "source": [
    "#7\n",
    "p=10"
   ]
  },
  {
   "cell_type": "code",
   "execution_count": 49,
   "id": "f13de972-68f1-4afe-8d3e-f2b0d901dc6e",
   "metadata": {},
   "outputs": [],
   "source": [
    "p=bool(p)    #non zero value convert into boolien"
   ]
  },
  {
   "cell_type": "code",
   "execution_count": 50,
   "id": "85229905-a0d3-4b3a-9638-9ea868d4822f",
   "metadata": {},
   "outputs": [
    {
     "data": {
      "text/plain": [
       "True"
      ]
     },
     "execution_count": 50,
     "metadata": {},
     "output_type": "execute_result"
    }
   ],
   "source": [
    "p"
   ]
  },
  {
   "cell_type": "code",
   "execution_count": null,
   "id": "37a82dda-b81d-4184-94b4-df477c6a26c8",
   "metadata": {},
   "outputs": [],
   "source": []
  }
 ],
 "metadata": {
  "kernelspec": {
   "display_name": "Python 3 (ipykernel)",
   "language": "python",
   "name": "python3"
  },
  "language_info": {
   "codemirror_mode": {
    "name": "ipython",
    "version": 3
   },
   "file_extension": ".py",
   "mimetype": "text/x-python",
   "name": "python",
   "nbconvert_exporter": "python",
   "pygments_lexer": "ipython3",
   "version": "3.10.8"
  }
 },
 "nbformat": 4,
 "nbformat_minor": 5
}
